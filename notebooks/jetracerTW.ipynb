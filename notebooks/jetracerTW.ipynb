{
 "cells": [
  {
   "cell_type": "code",
   "execution_count": null,
   "id": "06cd208b",
   "metadata": {},
   "outputs": [],
   "source": [
    "from jetracer.nvidia_racecar import NvidiaRacecar\n",
    "import matplotlib.pyplot as plt\n",
    "from jetcam.csi_camera import CSICamera\n",
    "from torch import nn\n",
    "from torchvision import transforms\n",
    "from IPython.display import clear_output\n",
    "import torch\n",
    "import PIL\n",
    "import pathlib\n",
    "import time\n",
    "import threading\n",
    "import os\n",
    "import numpy as np"
   ]
  },
  {
   "cell_type": "code",
   "execution_count": null,
   "id": "cc5d5cf2",
   "metadata": {},
   "outputs": [],
   "source": [
    "device = torch.device('cuda:0')"
   ]
  },
  {
   "cell_type": "code",
   "execution_count": null,
   "id": "b0973100",
   "metadata": {},
   "outputs": [],
   "source": [
    "car = NvidiaRacecar()"
   ]
  },
  {
   "cell_type": "code",
   "execution_count": null,
   "id": "ef2e9959",
   "metadata": {},
   "outputs": [],
   "source": [
    "camera = CSICamera(width=224, height=224)"
   ]
  },
  {
   "cell_type": "code",
   "execution_count": null,
   "id": "80a819d6",
   "metadata": {},
   "outputs": [],
   "source": [
    "class imagereader:\n",
    "    def __init__(self):\n",
    "        self.camera = camera\n",
    "        self._oldimage = None\n",
    "        self.camera.running = True\n",
    "    \n",
    "    def read(self):\n",
    "        while True:\n",
    "            i = self.camera.value\n",
    "            try:\n",
    "                diff = np.abs(i[0] - self._oldimage[0])\n",
    "                diff = np.where(diff < 250, diff, 0)\n",
    "                diff = diff.sum()\n",
    "                if diff > 0:\n",
    "                    break\n",
    "            except:\n",
    "                break\n",
    "        self._oldimage = i\n",
    "        return PIL.Image.fromarray(self._oldimage[...,::-1])"
   ]
  },
  {
   "cell_type": "code",
   "execution_count": null,
   "id": "4c4fa0b6",
   "metadata": {},
   "outputs": [],
   "source": [
    "ir = imagereader()"
   ]
  },
  {
   "cell_type": "code",
   "execution_count": null,
   "id": "592db17a",
   "metadata": {},
   "outputs": [],
   "source": [
    "img = ir.read()"
   ]
  },
  {
   "cell_type": "code",
   "execution_count": null,
   "id": "3e0f057d",
   "metadata": {},
   "outputs": [],
   "source": [
    "img"
   ]
  },
  {
   "cell_type": "code",
   "execution_count": null,
   "id": "efbad96d",
   "metadata": {},
   "outputs": [],
   "source": [
    "def preprocess_image(img):\n",
    "    \"\"\"\n",
    "    Augments an image for processing.\n",
    "    \n",
    "    Args:\n",
    "        img: PIL image\n",
    "        \n",
    "    returns: tensor with an augmented version of the image\n",
    "    \"\"\"\n",
    "    img = transforms.functional.to_grayscale(img)\n",
    "    X = transforms.functional.to_tensor(img) \n",
    "    return X"
   ]
  },
  {
   "cell_type": "code",
   "execution_count": null,
   "id": "8f9ef3b1",
   "metadata": {},
   "outputs": [],
   "source": [
    "class drive:\n",
    "    \"\"\"\n",
    "    ContextManager to drive the car and always stop when the context terminates\n",
    "    \"\"\"\n",
    "    def __init__(self, car, speed=-0.5):\n",
    "        self.car = car\n",
    "        self.speed = speed\n",
    "        \n",
    "    def __enter__(self):\n",
    "        self.car.throttle = self.speed\n",
    "        \n",
    "    def __exit__(self, *args):\n",
    "        self.car.throttle = 0"
   ]
  },
  {
   "cell_type": "code",
   "execution_count": null,
   "id": "de092473",
   "metadata": {},
   "outputs": [],
   "source": [
    "stopmodel = nn.Conv1d(1, 1, kernel_size=3, padding=0)\n",
    "stopmodel.weight.requires_grad = False\n",
    "stopmodel.weight[...] = 1\n",
    "stopmodel.bias.data = torch.tensor([0.0])\n",
    "stopmodel.to(device)"
   ]
  },
  {
   "cell_type": "code",
   "execution_count": null,
   "id": "493cf96b",
   "metadata": {},
   "outputs": [],
   "source": [
    "def auto_stop(X, threshold=1.3):\n",
    "    \"\"\"\n",
    "    Args:\n",
    "        X: tensor of the current image of the car\n",
    "\n",
    "    Returns: bool, True when the trajectory is no longer visible\n",
    "    \"\"\"\n",
    "    r = stopmodel(X[:,:,-1,:])\n",
    "    return (torch.min(r) > threshold).item()"
   ]
  },
  {
   "cell_type": "code",
   "execution_count": null,
   "id": "ef422b84",
   "metadata": {},
   "outputs": [],
   "source": [
    "# demonstrate auto_stop\n",
    "auto_stop(preprocess_image(ir.read()).unsqueeze(0).to(device))"
   ]
  },
  {
   "cell_type": "code",
   "execution_count": null,
   "id": "ffe3a950",
   "metadata": {},
   "outputs": [],
   "source": [
    "class RaceMonster(nn.Module):\n",
    "    def __init__(self):\n",
    "        super().__init__()\n",
    "        self.w1 = nn.Linear(224*224, 100)\n",
    "        self.w2 = nn.Linear(100, 1)\n",
    "        self.relu= nn.ReLU()\n",
    "        \n",
    "    def forward(self, X):\n",
    "        return self.w2(self.relu(self.w1(X.view(len(X), -1)))).view(-1)"
   ]
  },
  {
   "cell_type": "code",
   "execution_count": null,
   "id": "fb49dbde",
   "metadata": {},
   "outputs": [],
   "source": [
    "filename = 'Perceptron.all.state'\n",
    "model = RaceMonster()\n",
    "model.load_state_dict(torch.load(filename))\n",
    "model.to(device)                       "
   ]
  },
  {
   "cell_type": "code",
   "execution_count": null,
   "id": "eb89c5ce",
   "metadata": {},
   "outputs": [],
   "source": [
    "# alleen sturen\n",
    "count = 0\n",
    "with torch.no_grad():                         # no training\n",
    "    start = time.time()\n",
    "    while True:\n",
    "        count += 1\n",
    "        clear_output()\n",
    "        print(f'fps {count / (time.time() - start)}')   # print fps\n",
    "        image = ir.read()                    # lees plaatje\n",
    "        X = preprocess_image(image)          # preprocess\n",
    "        X = X.unsqueeze(0)                   # (1,1,224,224)\n",
    "        X = X.to(device)                     # naar gpu\n",
    "        direction = model(X).cpu().item()    # voorspelling\n",
    "        car.steering = direction             # stuur auto"
   ]
  },
  {
   "cell_type": "code",
   "execution_count": null,
   "id": "5e11cd12",
   "metadata": {},
   "outputs": [],
   "source": [
    "# stukje rijden\n",
    "with drive(car, speed=-0.5):\n",
    "    with torch.no_grad():                         # no training\n",
    "        while True:\n",
    "            image = ir.read()\n",
    "            X = preprocess_image(image)\n",
    "            X = X.unsqueeze(0)\n",
    "            X = X.to(device)\n",
    "            direction = model(X).cpu().item()\n",
    "            car.steering = direction\n",
    "            if auto_stop(X):\n",
    "                break"
   ]
  },
  {
   "cell_type": "code",
   "execution_count": null,
   "id": "4c205629",
   "metadata": {},
   "outputs": [],
   "source": []
  }
 ],
 "metadata": {
  "kernelspec": {
   "display_name": "Python 3",
   "language": "python",
   "name": "python3"
  },
  "language_info": {
   "codemirror_mode": {
    "name": "ipython",
    "version": 3
   },
   "file_extension": ".py",
   "mimetype": "text/x-python",
   "name": "python",
   "nbconvert_exporter": "python",
   "pygments_lexer": "ipython3",
   "version": "3.6.9"
  }
 },
 "nbformat": 4,
 "nbformat_minor": 5
}
